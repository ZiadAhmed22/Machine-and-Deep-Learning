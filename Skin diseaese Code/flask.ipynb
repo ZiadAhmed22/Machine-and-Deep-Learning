{
 "cells": [
  {
   "cell_type": "code",
   "execution_count": null,
   "metadata": {},
   "outputs": [],
   "source": [
    "import threading\n",
    "import time\n",
    "from flask import Flask\n",
    "app = Flask(__name__)\n",
    "\n",
    "@app.before_first_request\n",
    "def activate_job():\n",
    "    def run_job():\n",
    "        while True:\n",
    "            print(\"Run recurring task\")\n",
    "            time.sleep(3)\n",
    "\n",
    "    thread = threading.Thread(target=run_job)\n",
    "    thread.start()\n",
    "\n",
    "@app.route(\"/\")\n",
    "def hello():\n",
    "    return \"Hello World!\"\n",
    "\n",
    "\n",
    "if __name__ == \"__main__\":\n",
    "    app.run()"
   ]
  },
  {
   "cell_type": "code",
   "execution_count": null,
   "metadata": {},
   "outputs": [],
   "source": [
    "python run_flask.py\n",
    " * Running on http://127.0.0.1:5000/ (Press CTRL+C to quit)"
   ]
  },
  {
   "cell_type": "code",
   "execution_count": null,
   "metadata": {},
   "outputs": [],
   "source": [
    "python run_flask.py\n",
    " * Running on http://127.0.0.1:5000/ (Press CTRL+C to quit)\n",
    "Run recurring task\n",
    "127.0.0.1 - - [27/Feb/2017 15:28:03] \"GET / HTTP/1.1\" 200 -\n",
    "Run recurring task\n",
    "Run recurring task"
   ]
  },
  {
   "cell_type": "code",
   "execution_count": null,
   "metadata": {},
   "outputs": [],
   "source": [
    "@app.before_first_request\n",
    "def activate_job():\n",
    "    def run_job():\n",
    "        while True:\n",
    "            print(\"Run recurring task\")\n",
    "            time.sleep(3)\n",
    "\n",
    "    thread = threading.Thread(target=run_job)\n",
    "    thread.start()\n",
    "\n",
    "@app.route(\"/\")\n",
    "def hello():\n",
    "    return \"Hello World!\"\n",
    "\n",
    "\n",
    "def start_runner():\n",
    "    def start_loop():\n",
    "        not_started = True\n",
    "        while not_started:\n",
    "            print('In start loop')\n",
    "            try:\n",
    "                r = requests.get('http://127.0.0.1:5000/')\n",
    "                if r.status_code == 200:\n",
    "                    print('Server started, quiting start_loop')\n",
    "                    not_started = False\n",
    "                print(r.status_code)\n",
    "            except:\n",
    "                print('Server not yet started')\n",
    "            time.sleep(2)\n",
    "\n",
    "    print('Started runner')\n",
    "    thread = threading.Thread(target=start_loop)\n",
    "    thread.start()\n",
    "\n",
    "if __name__ == \"__main__\":\n",
    "    start_runner()"
   ]
  },
  {
   "cell_type": "code",
   "execution_count": null,
   "metadata": {},
   "outputs": [],
   "source": [
    "python run_flask.py\n",
    "Started runner\n",
    "In start loop\n",
    "Server not yet started\n",
    " * Running on http://127.0.0.1:5000/ (Press CTRL+C to quit)\n",
    "In start loop\n",
    "Run recurring task\n",
    "127.0.0.1 - - [27/Feb/2017 15:45:42] \"GET / HTTP/1.1\" 200 -\n",
    "Server started, quiting start_loop\n",
    "200\n",
    "Run recurring task\n",
    "Run recurring task\n",
    "Run recurring task"
   ]
  }
 ],
 "metadata": {
  "language_info": {
   "name": "python"
  },
  "orig_nbformat": 4
 },
 "nbformat": 4,
 "nbformat_minor": 2
}
