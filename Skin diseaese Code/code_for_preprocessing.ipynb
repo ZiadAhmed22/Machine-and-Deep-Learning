{
 "cells": [
  {
   "cell_type": "code",
   "execution_count": 1,
   "metadata": {},
   "outputs": [],
   "source": [
    "import numpy as np\n",
    "import pandas as pd\n",
    "import csv\n",
    "import cv2\n",
    "import matplotlib.pylab as plt\n",
    "import sys\n",
    "import math\n",
    "import os\n",
    "from PIL import Image , ImageDraw"
   ]
  },
  {
   "cell_type": "code",
   "execution_count": 75,
   "metadata": {},
   "outputs": [],
   "source": [
    "#- hair and small black marks removal\n",
    "images = []\n",
    "with open('images-diseases.csv' , encoding='utf-8') as data:\n",
    " reader = csv.DictReader(data)\n",
    " for row in reader:\n",
    "  images.append(row['image'])\n",
    "    \n",
    "SIZE=256 #for less resources and best for the CNN model\n",
    "for imag in images:\n",
    "  image = 'Dataset/' + imag + '.jpg'\n",
    "  img = cv2.imread(image) \n",
    "  resized_imgs = cv2.resize(img,(SIZE,SIZE))\n",
    "  N_images = resized_imgs\n",
    "  \n",
    "  gray = []\n",
    "  grayScale = cv2.cvtColor(resized_imgs, cv2.COLOR_BGR2GRAY)\n",
    "  kernel = cv2.getStructuringElement(1,(17,17))\n",
    "  blackhat = cv2.morphologyEx(grayScale, cv2.MORPH_BLACKHAT, kernel)\n",
    "  ret,thresh2 = cv2.threshold(blackhat,10,255,cv2.THRESH_BINARY)\n",
    "\t\n",
    "  dst = cv2.inpaint(resized_imgs, thresh2, 1 ,cv2.INPAINT_TELEA)\n",
    "  cv2.imwrite('result/'+imag+'.jpg', dst, [int(cv2.IMWRITE_JPEG_QUALITY), 90]) "
   ]
  },
  {
   "cell_type": "code",
   "execution_count": null,
   "metadata": {},
   "outputs": [],
   "source": [
    "#- contrast enhancement\n",
    "images = []\n",
    "with open('images-diseases.csv' , encoding='utf-8') as data:\n",
    "  reader = csv.DictReader(data)\n",
    "  for row in reader:\n",
    "    images.append(row['image'])\n",
    "    \n",
    "N_images = [\"ISIC_0000014\"]\n",
    "for imag in images:\n",
    "  image = 'result/' + imag + '.jpg'\n",
    "  img = cv2.imread(image) \n",
    "\n",
    "  lab= cv2.cvtColor(img, cv2.COLOR_BGR2LAB)\n",
    "  l, a, b = cv2.split(lab)\n",
    "  clahe = cv2.createCLAHE(clipLimit=1.0, tileGridSize=(5,5))\n",
    "  cl = clahe.apply(l)\n",
    "  limg = cv2.merge((cl,a,b))\n",
    "\n",
    "  final = cv2.cvtColor(limg, cv2.COLOR_LAB2BGR)\n",
    "  cv2.imwrite('contrast/'+ imag +'.jpg', final) "
   ]
  },
  {
   "cell_type": "code",
   "execution_count": null,
   "metadata": {},
   "outputs": [],
   "source": [
    "#- increase brightness\n",
    "images = []\n",
    "with open('images-diseases.csv' , encoding='utf-8') as data:\n",
    "  reader = csv.DictReader(data)\n",
    "  for row in reader:\n",
    "    images.append(row['image'])\n",
    "\n",
    "for imag in images:\n",
    "  image = 'contrast/' + imag + '.jpg'\n",
    "  img = cv2.imread(image) \n",
    "  hsv = cv2.cvtColor(img, cv2.COLOR_BGR2HSV) \n",
    "\n",
    "  h, s, v = cv2.split(hsv)\n",
    "  v += 255 * 2\n",
    "  final_hsv = cv2.merge((h, s, v))\n",
    "\n",
    "  img = cv2.cvtColor(final_hsv, cv2.COLOR_HSV2BGR)\n",
    "  cv2.imwrite('brightness/'+ imag +'.jpg', img) "
   ]
  },
  {
   "cell_type": "code",
   "execution_count": 8,
   "metadata": {},
   "outputs": [],
   "source": [
    "#- remove vignette of all shapes under variable change\n",
    "images = []\n",
    "with open('images-diseases.csv' , encoding='utf-8') as data:\n",
    "  reader = csv.DictReader(data)\n",
    "  for row in reader:\n",
    "    images.append(row['image'])\n",
    "\n",
    "for imag in images:\n",
    "  image = 'brightness/' + imag + '.jpg'\n",
    "  img = cv2.imread(image)\n",
    "  \n",
    "  B_MIN = np.array([0, 0, 0], np.uint8)\n",
    "  B_MAX = np.array([40, 40, 40], np.uint8)\n",
    "\n",
    "  dst = cv2.inRange(img, B_MIN, B_MAX)\n",
    "  no_b = cv2.countNonZero(dst)\n",
    "  d = 5\n",
    "  if no_b > d:    \n",
    "   cv2.imwrite('vignette4/'+ imag +'.jpg', img) "
   ]
  },
  {
   "cell_type": "code",
   "execution_count": null,
   "metadata": {},
   "outputs": [],
   "source": [
    "#- test for annotation removal by color but it doesn't work\n",
    "images = []\n",
    "with open('images-diseases.csv' , encoding='utf-8') as data:\n",
    "  reader = csv.DictReader(data)\n",
    "  for row in reader:\n",
    "    images.append(row['image'])\n",
    "\n",
    "for imag in images:\n",
    "  image = 'result/' + imag + '.jpg'\n",
    "  img = cv2.imread(image)\n",
    "  \n",
    "  B_MIN = np.array([43,149,107], np.uint8)\n",
    "  B_MAX = np.array([45,150,109], np.uint8)\n",
    "\n",
    "  dst = cv2.inRange(img, B_MIN, B_MAX)\n",
    "  no_b = cv2.countNonZero(dst)\n",
    "  d = 50\n",
    "  if no_b > d:    \n",
    "   cv2.imwrite('annotation/'+ imag +'.jpg', img) "
   ]
  },
  {
   "cell_type": "code",
   "execution_count": 23,
   "metadata": {},
   "outputs": [],
   "source": [
    "#- for annotation ,rulers,marks removal and location crop\n",
    "#- under varible change and test and visualization\n",
    "names = []\n",
    "names = os.listdir(('n8/'))\n",
    "\n",
    "for imag in names:\n",
    "  image = 'n8/' + imag\n",
    "  img = cv2.imread(image)\n",
    "  \n",
    "  width, height = 206, 206\n",
    "  x, y = 10, 40\n",
    "  crop_img = img[y:y+height, x:x+width]\n",
    "  crop_img = cv2.resize(crop_img,(256,256))\n",
    "  \n",
    "  cv2.imwrite('n8/'+ imag , crop_img, [int(cv2.IMWRITE_JPEG_QUALITY), 90]) "
   ]
  },
  {
   "cell_type": "code",
   "execution_count": null,
   "metadata": {},
   "outputs": [],
   "source": [
    "#- enhance contrast\n",
    "  lab= cv2.cvtColor(crop_img, cv2.COLOR_BGR2LAB)\n",
    "  l, a, b = cv2.split(lab)\n",
    "  clahe = cv2.createCLAHE(clipLimit=1.0, tileGridSize=(5,5))\n",
    "  cl = clahe.apply(l)\n",
    "  limg = cv2.merge((cl,a,b))\n",
    "  final = cv2.cvtColor(limg, cv2.COLOR_LAB2BGR)\n",
    "  \n",
    "  #- brighten\n",
    "  hsv = cv2.cvtColor(final, cv2.COLOR_BGR2HSV) #convert it to hsv\n",
    "\n",
    "  h, s, v = cv2.split(hsv)\n",
    "  v += 255 * 2\n",
    "  final_hsv = cv2.merge((h, s, v))\n",
    "\n",
    "  img = cv2.cvtColor(final_hsv, cv2.COLOR_HSV2BGR)\n",
    "  "
   ]
  },
  {
   "cell_type": "code",
   "execution_count": 77,
   "metadata": {},
   "outputs": [],
   "source": [
    "#- tested for enhance contrast by equalization but didn't work\n",
    "\n",
    "# i = cv2.imread('ISIC_0000000.jpg')\n",
    "# gray = cv2.cvtColor(i,cv2.COLOR_RGB2GRAY)\n",
    "# image_enhanced = cv2.equalizeHist(gray)\n",
    "# image_enhanced = cv2.cvtColor(image_enhanced,cv2.COLOR_GRAY2RGB)\n",
    "# cv2.imwrite(\"imag.jpg\", image_enhanced)"
   ]
  }
 ],
 "metadata": {
  "interpreter": {
   "hash": "ad1a98f32f1c6fdfa4ac2eb55d4d3a47690546e750b4f65f6bc10efede9c0e4e"
  },
  "kernelspec": {
   "display_name": "Python 3.9.7 ('base')",
   "language": "python",
   "name": "python3"
  },
  "language_info": {
   "codemirror_mode": {
    "name": "ipython",
    "version": 3
   },
   "file_extension": ".py",
   "mimetype": "text/x-python",
   "name": "python",
   "nbconvert_exporter": "python",
   "pygments_lexer": "ipython3",
   "version": "3.9.7"
  },
  "orig_nbformat": 4
 },
 "nbformat": 4,
 "nbformat_minor": 2
}
